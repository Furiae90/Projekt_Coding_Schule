{
 "cells": [
  {
   "cell_type": "markdown",
   "metadata": {},
   "source": [
    "# Klasse Person (Elternklasse)"
   ]
  },
  {
   "cell_type": "code",
   "execution_count": 1,
   "metadata": {},
   "outputs": [],
   "source": [
    "class Person:\n",
    "    \"\"\"Die Basisiklasse, die Informationen über die Person enthält(Namen)\"\"\"\n",
    "    \n",
    "    def __init__(self, name: str) -> None:\n",
    "        \"\"\"\n",
    "        Initialisiert eine Person mit ihrem Namen.\n",
    "\n",
    "        Parameter name (str): der Name der Person.\"\"\"\n",
    "        self.name = name\n",
    "        \n",
    "    def vorstellen(self) -> None:\n",
    "        \"\"\"Stellt die Person final vor\"\"\"\n",
    "        print(f\"Hallo, mein Name ist {self.name}\")\n",
    "        \n",
    "    def essen(self, essen_menge: int) -> None:\n",
    "        \"\"\"\n",
    "        Simuliert, dass die Person isst und den Hunger reduziert\n",
    "\n",
    "        Parameter essen_menge (int): Die Menge die gegessen wurde\n",
    "        \"\"\"\n",
    "        self.hunger = max(0, self.hunger - essen_menge)"
   ]
  },
  {
   "cell_type": "markdown",
   "metadata": {},
   "source": [
    "# Unterklasse Student"
   ]
  },
  {
   "cell_type": "code",
   "execution_count": 2,
   "metadata": {},
   "outputs": [],
   "source": [
    "from typing import List, Union\n",
    "\n",
    "class Student(Person):\n",
    "    \"\"\"Die Klasse die den Studenten repräsentiert und von der Klasse Person erbt.\"\"\"\n",
    "    \n",
    "    def __init__(self, name: str, grund_zur_teilnahme: str) -> None:\n",
    "        \"\"\"Initialisiert einen Studenten mit Name und Grund zu Teilnahme\"\"\"\n",
    "        self.grund_zur_teilnahme = grund_zur_teilnahme\n",
    "        Person.__init__(self, name)\n",
    "        # Liste für meldungen\n",
    "        self.meldungen: List[str] = [] \n",
    "        \n",
    "    def melden(self, nachricht: str) -> None:\n",
    "        \"\"\"\n",
    "        Meldet eine Nachricht vom Student\n",
    "\n",
    "        Parameter nachricht: Die Nachricht, die gemeldet werden soll.\n",
    "        \"\"\"\n",
    "        self.meldungen.append(nachricht)\n",
    "        \n",
    "    def frage(self, frage_text: str) -> None:\n",
    "        \"\"\"\n",
    "        Stellt eine Frage als Student.\n",
    "\n",
    "        Parameter frage_text: Der Text der Frage.\n",
    "        \"\"\"\n",
    "        print(f\"{self.name} fragt: {frage_text}\")\n",
    "        \n",
    "    def set_anwesenheit(self, ist_anwesend: bool) -> None:\n",
    "        \"\"\"\n",
    "        Aktualisiert den Anwesenheitssatus des Studenten.\n",
    "\n",
    "        Parameter ist_anwesend: Ein boolschwer Wert der ob der Student anwesend ist oder nicht\n",
    "        \"\"\"\n",
    "        if ist_anwesend:\n",
    "            print(f\"{self.name} ist anwesend\")\n",
    "        else:\n",
    "            print(f\"{self.name} ist nicht anwesend\")\n",
    "        self.anwesenheit =ist_anwesend\n",
    "        \n",
    "    def vierhundertzwanzig(self) -> None:\n",
    "        \"\"\"\n",
    "        Simuliert, dass der Student in der Pause gekifft hat.\n",
    "        \n",
    "        parameter student: der betroffene Student\n",
    "        \"\"\"\n",
    "        print(f\"{self.name} hat jetzt rote Augen. Vielleicht lieber erst nach der Schule Kiffen!\")\n",
    "        "
   ]
  },
  {
   "cell_type": "markdown",
   "metadata": {},
   "source": [
    "# Unterklasse Dozent"
   ]
  },
  {
   "cell_type": "code",
   "execution_count": 3,
   "metadata": {},
   "outputs": [],
   "source": [
    "class Dozent(Person):\n",
    "    \"\"\"Die Klasse die den Dozenten repräsentiert und von der Klasse Person erbt.\"\"\"\n",
    "    \n",
    "    def __init__(self, name: str, biografie: str, faehigkeiten: List[str]) -> None:\n",
    "        self.biogarfie = biografie\n",
    "        self.faehigkeiten = faehigkeiten\n",
    "        Person.__init__(self, name)\n",
    "        \n",
    "    def add_skill(self, neue_fertigkeit: str) -> None:\n",
    "        \"\"\"Fügt eine neue Fertigkeit zur Liste der Fähigkeiten des Dozenten hinzu.\"\"\"\n",
    "        self.faehigkeiten.append(neue_fertigkeit)\n",
    "        \n",
    "    def gelegentlich_genervt(self) -> None:\n",
    "        \"\"\"\n",
    "        Simuliert, dass der Dozent gelegentlich genervt ist.\n",
    "        \"\"\"\n",
    "        self.genervt = True\n",
    "        print(f\"{self.name} ist genervt\")\n",
    "    \n",
    "    def nicht_mehr_genervt(self) -> None:\n",
    "        \"\"\"\n",
    "        Setzt den Dozenten zurück und macht ihn nicht mehr genervt\n",
    "        \"\"\"\n",
    "        self.genervt = False\n",
    "        print(f\"{self.name} ist nicht mehr genervt\")\n",
    "    \n",
    "    def vierhundertzwanzig(self) -> None:\n",
    "        \"\"\"\n",
    "        Simuliert, dass der Student in der Pause gekifft hat.\n",
    "        \n",
    "        parameter student: der betroffene Student\n",
    "        \"\"\"\n",
    "        print(f\"{self.name} hat jetzt rote Augen. Vielleicht lieber erst nach der Schule Kiffen!\")"
   ]
  },
  {
   "cell_type": "markdown",
   "metadata": {},
   "source": [
    "# Der Workshop"
   ]
  },
  {
   "cell_type": "code",
   "execution_count": 4,
   "metadata": {},
   "outputs": [],
   "source": [
    "class Workshop:\n",
    "    \"\"\"Die Klasse die den Workshop repräsentiert\"\"\"\n",
    "    def __init__(self, startdatum: str, enddatum: str, thema: str) -> None:\n",
    "        \"\"\"\n",
    "        Initialisiert einen Workshop mit Start und Enddatum sowie einem Thema.\n",
    "\n",
    "        Parameter startdatum (str): Das Startdatum des Workshops.\n",
    "        Parameter enddatum (str): Das Enddatum des Workshops.\n",
    "        Parameter thema (str): Das Thema des Workshops.\n",
    "        \"\"\"\n",
    "        self.startdatum = startdatum\n",
    "        self.enddatum = enddatum\n",
    "        self.thema = thema\n",
    "        self.dozenten: List[Dozent] = []\n",
    "        self.studenten: List[Student] = []\n",
    "        self.materialien_ressourcen = []\n",
    "        self.bewertungen_feedback = []\n",
    "    \n",
    "    def add_material_ressource(self, ressourcen_name: str, ressourcen_link: str) -> None:\n",
    "        \"\"\"\n",
    "        Fügt dem Workshop Material oder Ressourcen hinzu.\n",
    "\n",
    "        Parameter ressourcen_name: Der Name der Ressource.\n",
    "        Parameter ressourcen_link: Der Link zur Ressource (URL)\n",
    "        \"\"\"\n",
    "        ressource = {\"Name\": ressourcen_name, \"Link\": ressourcen_link}\n",
    "        self.materialien_ressourcen.append(ressource)\n",
    "        \n",
    "    def list_material_ressources(self) -> None:\n",
    "        \"\"\"\n",
    "        Listet alle Materialien und Ressourcen suf.\n",
    "        \"\"\"\n",
    "        for ressource in self.materialien_ressourcen:\n",
    "            print(f\"{ressource['Name']}: {ressource['Link']}\")\n",
    "            \n",
    "    def anonyme_bewertung_abgeben(self, bewertung: int, feedback: str) -> None:\n",
    "        \"\"\"\n",
    "        Ermöglicht einem Teilnehmer, eine anonyme Bewertung und Feedback zum Workshop abzugeben\n",
    "\n",
    "        Parameter bewertung (int): Die Bewertung (z.B. auf einer Skala von 1 bis 5).\n",
    "        Parameter feedback (str): Das Feed des Teilnehmers\n",
    "        \"\"\"\n",
    "        bewertung_feedback = {\"Bewertung\": bewertung, \"Feedbak\": feedback}\n",
    "        self.bewertungen_feedback.append(bewertung_feedback)\n",
    "        \n",
    "    def add_participant(self, person: Union[Dozent, Student]) -> None:\n",
    "        \"\"\"\n",
    "        Fügt einen Dozenten oder Studenten zur Liste der Teilnehmer hinzu\n",
    "        \n",
    "        Parameter person: Eine Liste von Dozenten und Studenten\n",
    "        \"\"\"\n",
    "        if isinstance(person, Dozent):\n",
    "            self.dozenten.append(person)\n",
    "        elif isinstance(person, Student):\n",
    "            self.studenten.append(person) "
   ]
  },
  {
   "cell_type": "markdown",
   "metadata": {},
   "source": [
    "# Funktionen zur abspeicherung und zum durcken in einer Json datei"
   ]
  },
  {
   "cell_type": "code",
   "execution_count": 5,
   "metadata": {},
   "outputs": [],
   "source": [
    "import json\n",
    "\n",
    "def print_members(personen: List[Union[Dozent, Student]]) -> None:\n",
    "    \"\"\"\n",
    "    Druckt Informationen über Dozenten und Studenten und specihert sie in einer JSON-Datei\n",
    "\n",
    "    Parameter personen: Eine Liste von Dozenten und Studenten\n",
    "    \"\"\"\n",
    "    mitglieder = []\n",
    "    for person in personen:\n",
    "        mitglied = {\n",
    "            \"Name\": person. name,\n",
    "            \"Typ\": \"Dozent\" if isinstance(person, Dozent) else \"Student\"\n",
    "        }\n",
    "        if isinstance(person, Dozent):\n",
    "            mitglied[\"Biografie\"] = person.biogarfie\n",
    "            mitglied[\"Faehigkeiten\"] = person.faehigkeiten\n",
    "        elif isinstance(person, Student):\n",
    "            mitglied[\"Grund zu Teilnahme\"] = person.grund_zur_teilnahme\n",
    "            mitglied[\"Anwesenheit\"] = person.anwesenheit\n",
    "        mitglieder.append(mitglied)\n",
    "        \n",
    "    with open(\"mitglieder.json\", \"w\") as datei:\n",
    "        json.dump(mitglieder, datei, indent=4)\n",
    "            "
   ]
  },
  {
   "cell_type": "code",
   "execution_count": 6,
   "metadata": {},
   "outputs": [],
   "source": [
    "def print_workshops(workshops: List[Workshop]) -> None:\n",
    "    \"\"\"\n",
    "    Druckt die Informationen über den Workshop und speichert sie in einer SJON-Datei.\n",
    "\n",
    "    Parameter workshops: Eine Liste von Workshop-Objekten.\n",
    "    \"\"\"\n",
    "    workshop_infos = []\n",
    "    for workshop in workshops:\n",
    "        workshop_info = {\n",
    "            \"Startdatum\": workshop.startdatum,\n",
    "            \"Enddatum\": workshop.enddatum,\n",
    "            \"Thema\": workshop.thema,\n",
    "            \"Material und Ressourcen\": workshop.materialien_ressourcen,\n",
    "            \"Bewertungen und Feedback\": workshop.bewertungen_feedback\n",
    "        }\n",
    "        workshop_infos.append(workshop_info)\n",
    "        \n",
    "    with open(\"workshops.json\", \"w\") as datei:\n",
    "        json.dump(workshop_infos, datei, indent=4)\n",
    "        "
   ]
  },
  {
   "cell_type": "code",
   "execution_count": 7,
   "metadata": {},
   "outputs": [],
   "source": [
    "def print_details(personen: List[Union[Dozent, Student]], workshops: List[Workshop]) -> None:\n",
    "    \"\"\"\n",
    "    Druckt und speichert Informationen über Dozenten, Studenten und Workshops.\n",
    "\n",
    "    Parameter person: Eine Liste von Dozenten und Studenten.\n",
    "    Parameter workshops: Eine Liste von Workshop-Objekten.\n",
    "    \"\"\"\n",
    "    print_members(personen)\n",
    "    print_workshops(workshops)"
   ]
  },
  {
   "cell_type": "markdown",
   "metadata": {},
   "source": [
    "# Instanzen"
   ]
  },
  {
   "cell_type": "code",
   "execution_count": 8,
   "metadata": {},
   "outputs": [],
   "source": [
    "student1 = Student(\"Sarah\", \"IT ist die zukunft\")\n",
    "student2 = Student(\"Flo\", \"Ich liebe es zu lernen\")\n",
    "dozent1 = Dozent(\"Dr. Melinski\", \"Ich codiere mit R und Python und liebe die Lehre\", [\"Python\", \"R\", \"SAS\"])\n",
    "\n",
    "workshop1 = Workshop(\"2023-10-01\", \"2023-10-03\", \"Python-Grundlagen\")\n",
    "workshop2 = Workshop(\"2023-06-15\", \"2023-06-17\", \"Datenanalyse mit Python\")"
   ]
  },
  {
   "cell_type": "code",
   "execution_count": 9,
   "metadata": {},
   "outputs": [],
   "source": [
    "# Dozent erhält einen neuen Skill\n",
    "dozent1.add_skill(\"Machine Learning\")"
   ]
  },
  {
   "cell_type": "code",
   "execution_count": 10,
   "metadata": {},
   "outputs": [],
   "source": [
    "# Teilnehmer die am Workshop teilnehmen\n",
    "workshop1.add_participant(student1)\n",
    "workshop1.add_participant(dozent1)\n",
    "workshop2.add_participant(student1)"
   ]
  },
  {
   "cell_type": "code",
   "execution_count": 11,
   "metadata": {},
   "outputs": [],
   "source": [
    "# Material und ressourcen werden zur verfügung gestellt\n",
    "workshop1.add_material_ressource(\"Laptop\", \"https://data-craft.de/\")\n",
    "workshop1.add_material_ressource(\"Tagesaufgaben\", \"https://campus.data-craft.de/course/view.php?id=40&sectionid=258\")"
   ]
  },
  {
   "cell_type": "code",
   "execution_count": 12,
   "metadata": {},
   "outputs": [],
   "source": [
    "workshop2.add_material_ressource(\"Laptop\", \"https://data-craft.de/\")\n",
    "workshop2.add_material_ressource(\"Tagesaufgaben\", \"https://campus.data-craft.de/course/view.php?id=40&sectionid=258\")"
   ]
  },
  {
   "cell_type": "code",
   "execution_count": 13,
   "metadata": {},
   "outputs": [],
   "source": [
    "workshop1.anonyme_bewertung_abgeben(4, \"Der Workshop war informativ und gut strukturiert.\")\n",
    "workshop2.anonyme_bewertung_abgeben(2, \"War auch sehr gut\")"
   ]
  },
  {
   "cell_type": "code",
   "execution_count": 14,
   "metadata": {},
   "outputs": [
    {
     "name": "stdout",
     "output_type": "stream",
     "text": [
      "Sarah ist anwesend\n",
      "Flo ist nicht anwesend\n"
     ]
    }
   ],
   "source": [
    "student1.set_anwesenheit(True)\n",
    "student2.set_anwesenheit(False)\n",
    "mietglieder = [dozent1, student2, student1]\n",
    "print_members(mietglieder)"
   ]
  },
  {
   "cell_type": "code",
   "execution_count": 15,
   "metadata": {},
   "outputs": [
    {
     "name": "stdout",
     "output_type": "stream",
     "text": [
      "Sarah fragt: Könnten Sie mir das nochmal erklären?\n"
     ]
    }
   ],
   "source": [
    "student1.frage(\"Könnten Sie mir das nochmal erklären?\")"
   ]
  },
  {
   "cell_type": "code",
   "execution_count": 16,
   "metadata": {},
   "outputs": [
    {
     "name": "stdout",
     "output_type": "stream",
     "text": [
      "Sarah hat jetzt rote Augen. Vielleicht lieber erst nach der Schule Kiffen!\n"
     ]
    }
   ],
   "source": [
    "student1.vierhundertzwanzig()"
   ]
  },
  {
   "cell_type": "code",
   "execution_count": 17,
   "metadata": {},
   "outputs": [
    {
     "name": "stdout",
     "output_type": "stream",
     "text": [
      "Dr. Melinski hat jetzt rote Augen. Vielleicht lieber erst nach der Schule Kiffen!\n"
     ]
    }
   ],
   "source": [
    "dozent1.vierhundertzwanzig()"
   ]
  },
  {
   "cell_type": "code",
   "execution_count": 18,
   "metadata": {},
   "outputs": [
    {
     "name": "stdout",
     "output_type": "stream",
     "text": [
      "Dr. Melinski ist genervt\n"
     ]
    }
   ],
   "source": [
    "dozent1.gelegentlich_genervt()    "
   ]
  },
  {
   "cell_type": "code",
   "execution_count": 19,
   "metadata": {},
   "outputs": [
    {
     "name": "stdout",
     "output_type": "stream",
     "text": [
      "Dr. Melinski ist nicht mehr genervt\n"
     ]
    }
   ],
   "source": [
    "dozent1.nicht_mehr_genervt()"
   ]
  },
  {
   "cell_type": "code",
   "execution_count": 20,
   "metadata": {},
   "outputs": [
    {
     "name": "stdout",
     "output_type": "stream",
     "text": [
      "Laptop: https://data-craft.de/\n",
      "Tagesaufgaben: https://campus.data-craft.de/course/view.php?id=40&sectionid=258\n"
     ]
    }
   ],
   "source": [
    "workshop1.list_material_ressources()"
   ]
  },
  {
   "cell_type": "code",
   "execution_count": 21,
   "metadata": {},
   "outputs": [
    {
     "name": "stdout",
     "output_type": "stream",
     "text": [
      "Laptop: https://data-craft.de/\n",
      "Tagesaufgaben: https://campus.data-craft.de/course/view.php?id=40&sectionid=258\n"
     ]
    }
   ],
   "source": [
    "workshop2.list_material_ressources()"
   ]
  }
 ],
 "metadata": {
  "kernelspec": {
   "display_name": "base",
   "language": "python",
   "name": "python3"
  },
  "language_info": {
   "codemirror_mode": {
    "name": "ipython",
    "version": 3
   },
   "file_extension": ".py",
   "mimetype": "text/x-python",
   "name": "python",
   "nbconvert_exporter": "python",
   "pygments_lexer": "ipython3",
   "version": "3.9.17"
  },
  "orig_nbformat": 4
 },
 "nbformat": 4,
 "nbformat_minor": 2
}
